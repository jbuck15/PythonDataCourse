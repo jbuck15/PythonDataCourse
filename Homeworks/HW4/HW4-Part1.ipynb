{
 "cells": [
  {
   "cell_type": "markdown",
   "metadata": {},
   "source": [
    "# HW4 Part 1 - Review of Python Classes\n",
    "\n",
    "April 21, 2020\n",
    "\n",
    "The following is meant to be a brief review of classes in Python. If you feel comfortable with building and manipulating classes in Python, feel free to skim this part"
   ]
  },
  {
   "cell_type": "code",
   "execution_count": 1,
   "metadata": {},
   "outputs": [],
   "source": [
    "import numpy as np\n",
    "import matplotlib.pyplot as plt\n",
    "import pandas as pd"
   ]
  },
  {
   "cell_type": "markdown",
   "metadata": {},
   "source": [
    "## 1a) Create a class \"`Dog`\" with an `__init__` function that takes in the variable `name`"
   ]
  },
  {
   "cell_type": "code",
   "execution_count": 10,
   "metadata": {},
   "outputs": [],
   "source": [
    "class Dog:\n",
    "\n",
    "    def __init__(self, name):\n",
    "        self.name = name"
   ]
  },
  {
   "cell_type": "code",
   "execution_count": 11,
   "metadata": {},
   "outputs": [],
   "source": [
    "mydog = Dog('Jojo')"
   ]
  },
  {
   "cell_type": "code",
   "execution_count": 12,
   "metadata": {},
   "outputs": [
    {
     "data": {
      "text/plain": [
       "'Jojo'"
      ]
     },
     "execution_count": 12,
     "metadata": {},
     "output_type": "execute_result"
    }
   ],
   "source": [
    "mydog.name"
   ]
  },
  {
   "cell_type": "markdown",
   "metadata": {},
   "source": [
    "# 1b) Add a method to this class `add_trick` that takes in a variable `trick`\n",
    "Keep in mind that a Dog might learn many tricks - you might keep track of the tricks it learns in a list"
   ]
  },
  {
   "cell_type": "code",
   "execution_count": 13,
   "metadata": {},
   "outputs": [],
   "source": [
    "class Dog:\n",
    "\n",
    "    def __init__(self, name): \n",
    "        self.name = name\n",
    "        self.trick_list = []\n",
    "\n",
    "    def add_trick(self, trick): # this is a method attribute\n",
    "        self.trick_list.append(trick)\n",
    "    \n",
    "    def print_tricks(self):\n",
    "        print(self.trick_list)"
   ]
  },
  {
   "cell_type": "code",
   "execution_count": 14,
   "metadata": {},
   "outputs": [
    {
     "name": "stdout",
     "output_type": "stream",
     "text": [
      "['roll over', 'play dead', 'flippy flip']\n"
     ]
    }
   ],
   "source": [
    "# test your code\n",
    "mydog = Dog('Jojo')\n",
    "mydog.add_trick('roll over')\n",
    "mydog.add_trick('play dead')\n",
    "mydog.add_trick('flippy flip')\n",
    "\n",
    "# print the tricks here\n",
    "mydog.print_tricks()"
   ]
  },
  {
   "cell_type": "markdown",
   "metadata": {},
   "source": [
    "## 1c) Modify the class so that it keeps track of the dog's age, gender and species\n",
    "Would these be better as a data attributes or as a method attributes?"
   ]
  },
  {
   "cell_type": "code",
   "execution_count": 113,
   "metadata": {},
   "outputs": [],
   "source": [
    "# your code here\n",
    "class Dog:\n",
    "\n",
    "    def __init__(self, name, age, gender, species): \n",
    "        self.name = name\n",
    "        self.age = age\n",
    "        self.gender = gender\n",
    "        self.species = species\n",
    "        self.trick_list = []\n",
    "\n",
    "    def add_trick(self, trick): # this is a method attribute\n",
    "        self.trick_list.append(trick)\n",
    "    \n",
    "    def print_tricks(self):\n",
    "        print(self.trick_list)"
   ]
  },
  {
   "cell_type": "markdown",
   "metadata": {},
   "source": [
    "## 1d) Create 3 dogs with various characteristics, and assign them different tricks"
   ]
  },
  {
   "cell_type": "markdown",
   "metadata": {},
   "source": [
    "## 1e) Create a method/function `print_summary` for the Dog class that prints all the relevant data and tricks"
   ]
  },
  {
   "cell_type": "code",
   "execution_count": 3,
   "metadata": {},
   "outputs": [],
   "source": [
    "# your code here\n",
    "class Dog:\n",
    "    \n",
    "    species = 'mammal'\n",
    "\n",
    "    def __init__(self, name, age, gender, species): \n",
    "        self.name = name\n",
    "        self.age = age\n",
    "        self.gender = gender\n",
    "        self.species = species\n",
    "        self.trick_list = []\n",
    "\n",
    "    def add_trick(self, trick): # this is a method attribute\n",
    "        self.trick_list.append(trick)\n",
    "    \n",
    "    def print_tricks(self):\n",
    "        print(self.trick_list)\n",
    "        \n",
    "    def print_summary(self):\n",
    "        print('Name: '+ str(self.name))\n",
    "        print('Age: '+ str(self.age))\n",
    "        print('Gender: '+ str(self.gender))\n",
    "        print('Species: '+ str(self.species))\n",
    "        print('Tricks: ' + str(self.trick_list))\n",
    "        print('------------------------------')"
   ]
  },
  {
   "cell_type": "code",
   "execution_count": 3,
   "metadata": {},
   "outputs": [],
   "source": [
    "# your code here\n",
    "Jerry = Dog('Jerry','10','M','Poodle')\n",
    "Jerry.add_trick('sit')\n",
    "Jerry.add_trick('stay')\n",
    "Jerry.add_trick('come here')\n",
    "Jillian = Dog('Jillian','6','F','Irish Setter')\n",
    "Jillian.add_trick('heel')\n",
    "Jillian.add_trick('side')\n",
    "Jillian.add_trick('follow me')\n",
    "Jax = Dog('Jax','2','M','Labrador Retriever')\n",
    "Jax.add_trick('shake')\n",
    "Jax.add_trick('lap')\n",
    "Jax.add_trick('speak')"
   ]
  },
  {
   "cell_type": "code",
   "execution_count": 5,
   "metadata": {},
   "outputs": [
    {
     "name": "stdout",
     "output_type": "stream",
     "text": [
      "Name: Jerry\n",
      "Age: 10\n",
      "Gender: M\n",
      "Species: Poodle\n",
      "Tricks: ['sit', 'stay', 'come here']\n",
      "------------------------------\n",
      "Name: Jillian\n",
      "Age: 6\n",
      "Gender: F\n",
      "Species: Irish Setter\n",
      "Tricks: ['heel', 'side', 'follow me']\n",
      "------------------------------\n",
      "Name: Jax\n",
      "Age: 2\n",
      "Gender: M\n",
      "Species: Labrador Retriever\n",
      "Tricks: ['shake', 'lap', 'speak']\n",
      "------------------------------\n"
     ]
    }
   ],
   "source": [
    "# create 3 dogs again with your new/modified class and \n",
    "dogs = [Jerry,Jillian,Jax]\n",
    "for d in dogs:\n",
    "    d.print_summary()"
   ]
  },
  {
   "cell_type": "markdown",
   "metadata": {},
   "source": [
    "## 1f) Finally, create a function/method that returns a pandas dataframe of the dog's name, age, gender species and tricks"
   ]
  },
  {
   "cell_type": "markdown",
   "metadata": {},
   "source": [
    "This code should run. What do you notice about having multiple tricks?"
   ]
  },
  {
   "cell_type": "code",
   "execution_count": 2,
   "metadata": {},
   "outputs": [],
   "source": [
    "# your code here\n",
    "class Dog:\n",
    "\n",
    "    def __init__(self, name, age, gender, species): \n",
    "        self.name = name\n",
    "        self.age = age\n",
    "        self.gender = gender\n",
    "        self.species = species\n",
    "        self.trick_list = []\n",
    "\n",
    "    def add_trick(self, trick): # this is a method attribute\n",
    "        self.trick_list.append(trick)\n",
    "    \n",
    "    def print_tricks(self):\n",
    "        print(self.trick_list)\n",
    "        \n",
    "    def return_df(self):\n",
    "        d = pd.DataFrame({'Name': [self.name], 'Age': [self.age], 'Gender': [self.gender], 'Species': [self.species], 'Tricks': [self.trick_list]})\n",
    "        return d\n",
    "        \n",
    "    def print_summary(self):\n",
    "        print('Name: '+ str(self.name))\n",
    "        print('Age: '+ str(self.age))\n",
    "        print('Gender: '+ str(self.gender))\n",
    "        print('Species: '+ str(self.species))\n",
    "        print('Tricks: ' + str(self.trick_list))\n",
    "        print('------------------------------')"
   ]
  },
  {
   "cell_type": "code",
   "execution_count": 4,
   "metadata": {},
   "outputs": [
    {
     "data": {
      "text/html": [
       "<div>\n",
       "<style scoped>\n",
       "    .dataframe tbody tr th:only-of-type {\n",
       "        vertical-align: middle;\n",
       "    }\n",
       "\n",
       "    .dataframe tbody tr th {\n",
       "        vertical-align: top;\n",
       "    }\n",
       "\n",
       "    .dataframe thead th {\n",
       "        text-align: right;\n",
       "    }\n",
       "</style>\n",
       "<table border=\"1\" class=\"dataframe\">\n",
       "  <thead>\n",
       "    <tr style=\"text-align: right;\">\n",
       "      <th></th>\n",
       "      <th>Name</th>\n",
       "      <th>Age</th>\n",
       "      <th>Gender</th>\n",
       "      <th>Species</th>\n",
       "      <th>Tricks</th>\n",
       "    </tr>\n",
       "  </thead>\n",
       "  <tbody>\n",
       "    <tr>\n",
       "      <th>0</th>\n",
       "      <td>Jax</td>\n",
       "      <td>2</td>\n",
       "      <td>M</td>\n",
       "      <td>Labrador Retriever</td>\n",
       "      <td>[shake, lap, speak]</td>\n",
       "    </tr>\n",
       "  </tbody>\n",
       "</table>\n",
       "</div>"
      ],
      "text/plain": [
       "  Name Age Gender             Species               Tricks\n",
       "0  Jax   2      M  Labrador Retriever  [shake, lap, speak]"
      ]
     },
     "execution_count": 4,
     "metadata": {},
     "output_type": "execute_result"
    }
   ],
   "source": [
    "Jax.return_df()"
   ]
  },
  {
   "cell_type": "code",
   "execution_count": 5,
   "metadata": {},
   "outputs": [
    {
     "data": {
      "text/html": [
       "<div>\n",
       "<style scoped>\n",
       "    .dataframe tbody tr th:only-of-type {\n",
       "        vertical-align: middle;\n",
       "    }\n",
       "\n",
       "    .dataframe tbody tr th {\n",
       "        vertical-align: top;\n",
       "    }\n",
       "\n",
       "    .dataframe thead th {\n",
       "        text-align: right;\n",
       "    }\n",
       "</style>\n",
       "<table border=\"1\" class=\"dataframe\">\n",
       "  <thead>\n",
       "    <tr style=\"text-align: right;\">\n",
       "      <th></th>\n",
       "      <th>Name</th>\n",
       "      <th>Age</th>\n",
       "      <th>Gender</th>\n",
       "      <th>Species</th>\n",
       "      <th>Tricks</th>\n",
       "    </tr>\n",
       "  </thead>\n",
       "  <tbody>\n",
       "    <tr>\n",
       "      <th>0</th>\n",
       "      <td>Jojo</td>\n",
       "      <td>12</td>\n",
       "      <td>M</td>\n",
       "      <td>collie</td>\n",
       "      <td>[roll over, flippy flip]</td>\n",
       "    </tr>\n",
       "  </tbody>\n",
       "</table>\n",
       "</div>"
      ],
      "text/plain": [
       "   Name  Age Gender Species                    Tricks\n",
       "0  Jojo   12      M  collie  [roll over, flippy flip]"
      ]
     },
     "execution_count": 5,
     "metadata": {},
     "output_type": "execute_result"
    }
   ],
   "source": [
    "jojo = Dog(name='Jojo',age=12,gender='M',species='collie')\n",
    "\n",
    "jojo.add_trick('roll over')\n",
    "jojo.add_trick('flippy flip')\n",
    "\n",
    "df = jojo.return_df()\n",
    "\n",
    "df.head()"
   ]
  }
 ],
 "metadata": {
  "kernelspec": {
   "display_name": "Python 3",
   "language": "python",
   "name": "python3"
  },
  "language_info": {
   "codemirror_mode": {
    "name": "ipython",
    "version": 3
   },
   "file_extension": ".py",
   "mimetype": "text/x-python",
   "name": "python",
   "nbconvert_exporter": "python",
   "pygments_lexer": "ipython3",
   "version": "3.7.6"
  }
 },
 "nbformat": 4,
 "nbformat_minor": 2
}
